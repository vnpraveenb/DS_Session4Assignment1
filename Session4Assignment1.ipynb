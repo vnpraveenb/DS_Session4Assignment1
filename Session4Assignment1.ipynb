{
 "cells": [
  {
   "cell_type": "code",
   "execution_count": 6,
   "metadata": {},
   "outputs": [
    {
     "name": "stdout",
     "output_type": "stream",
     "text": [
      "['Afghanistan', 'Albania', 'Algeria', 'Andorra', 'Argentina', 'Armenia', 'Australia', 'Austria']\n"
     ]
    }
   ],
   "source": [
    "# Write a function filter_long_words() that takes a list of words\n",
    "# and an integer n and returns the list of words that are longer than n\n",
    "\n",
    "def filter_long_words(wordlist, n):\n",
    "    tempwordlist = []\n",
    "    for word in wordlist:\n",
    "        if len(word)> n:\n",
    "            tempwordlist.append(word)\n",
    "    return tempwordlist\n",
    "\n",
    "countrynames = [\"Afghanistan\",\"Albania\", \"Algeria\", \"Andorra\", \"Angola\", \"Argentina\", \"Armenia\", \"Aruba\", \"Australia\",\"Austria\"]\n",
    "print(filter_long_words(countrynames, 6))\n",
    "    "
   ]
  },
  {
   "cell_type": "code",
   "execution_count": null,
   "metadata": {},
   "outputs": [],
   "source": []
  }
 ],
 "metadata": {
  "kernelspec": {
   "display_name": "Python 3",
   "language": "python",
   "name": "python3"
  },
  "language_info": {
   "codemirror_mode": {
    "name": "ipython",
    "version": 3
   },
   "file_extension": ".py",
   "mimetype": "text/x-python",
   "name": "python",
   "nbconvert_exporter": "python",
   "pygments_lexer": "ipython3",
   "version": "3.6.4"
  }
 },
 "nbformat": 4,
 "nbformat_minor": 2
}
